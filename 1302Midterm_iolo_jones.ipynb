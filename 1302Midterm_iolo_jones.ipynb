{
  "nbformat": 4,
  "nbformat_minor": 0,
  "metadata": {
    "colab": {
      "name": "1302Midterm_iolo_jones.ipynb",
      "provenance": []
    },
    "kernelspec": {
      "name": "python3",
      "display_name": "Python 3"
    },
    "language_info": {
      "name": "python"
    }
  },
  "cells": [
    {
      "cell_type": "markdown",
      "source": [
        "Classes"
      ],
      "metadata": {
        "id": "0y9b8P9A1qxa"
      }
    },
    {
      "cell_type": "markdown",
      "source": [
        "(10 points )Write a program by creating an 'Employee' class having the following functions and print the final salary.\n",
        "\n",
        "1 - 'getInfo()' which takes the salary, number of hours of work per day of employee as parameters\n",
        "\n",
        "2 - 'AddSal()' which adds 10 to the salary of the employee if it is less than $500.\n",
        "\n",
        "3 - 'AddWork()' which adds 5 to the salary of the employee if the number of hours of work per day is more than 6 hours.\n",
        "\n",
        "(5 points) Add a method to the previous  class that would print the information (name, year of joining, salary, address). The output Name        Year of joining        Address\n",
        "\n",
        "Robert        1994        64C- WallsStreat\n",
        "\n",
        "(5 points )Write a Shape class that has an empty initializer and a empty method for Area\n",
        "\n",
        "(5 points ) Write a program to extend the Shape class for the previous problem by creating a class named 'Triangle' with an overridden function to print and calculate the area and add a function o print and calculate perimeter. This Triangle class should take in the length of each of its two sides, and the angle between them when initialized. ** Area = (ab × sin C)/2\n",
        "\n",
        "import math\n",
        "\n",
        "# Return the sine of different values\n",
        "print (math.sin(0.00))\n",
        "\n",
        "(5 points ) Write a program to extend the Shape class for the previous problem by creating a class named Rectangle with an overridden function to print and calculate the area and add a function to print and calculate perimeter. This Rectangle class should take in the height and width when initialized. ** Area = (height * width)"
      ],
      "metadata": {
        "id": "fBHuxvMg1r8p"
      }
    },
    {
      "cell_type": "code",
      "source": [
        "class Employee: # create an employee class\n",
        "    def __init__(self, name, joining_year, home_address): # takes name, joining year and home address\n",
        "        self.name = name # initialise name\n",
        "        self.joining_year = joining_year # initialise joining year\n",
        "        self.home_address = home_address # initialise adress\n",
        "        self.wage = 0 # initialise wage\n",
        "        self.hours = 0 # initialise hours\n",
        "\n",
        "    def getInfo(self, wage, hours_worked): # get info method\n",
        "        self.wage = wage\n",
        "        self.hours = hours_worked\n",
        "\n",
        "    def AddSal(self): # add sal method\n",
        "        if self.wage < 500: self.wage += 10\n",
        "\n",
        "    def AddWork(self): # add work method\n",
        "        if self.hours > 6: self.wage += 5\n",
        "\n",
        "    def print(self): # method for printing\n",
        "        print('{:<20}{:>10}{:>15}{:^40}'.format('Name', 'Joining Year', 'Salary', 'Home Address'))\n",
        "        print(f'{self.name:<20}{self.joining_year:>10}{self.wage:>15}{self.home_address:^40}')\n",
        "\n",
        "emp = Employee('Robert',1994,'64C Walls Street')\n",
        "emp.getInfo(400,7)\n",
        "emp.AddSal()\n",
        "emp.AddWork()\n",
        "emp.print()"
      ],
      "metadata": {
        "colab": {
          "base_uri": "https://localhost:8080/"
        },
        "id": "FFFeRs_k1rcP",
        "outputId": "54ecced9-5c70-4fef-c8b8-e23ad6010cd2"
      },
      "execution_count": 35,
      "outputs": [
        {
          "output_type": "stream",
          "name": "stdout",
          "text": [
            "Name                     Joining Year         Salary              Home Address              \n",
            "Robert                    1994            415            64C Walls Street            \n"
          ]
        }
      ]
    },
    {
      "cell_type": "code",
      "source": [
        "import math # import math library \n",
        "class Shape: # create shape class\n",
        "    def __init__(self): # initialise \n",
        "        pass\n",
        "    def Area(self): # create area method\n",
        "        pass\n",
        "\n",
        "class Triangle(Shape): # add to shape class because all triangles are shapes \n",
        "    def __init__(self, sideA , sideB, angle): # initialise class \n",
        "        self.sideA = sideA # initialise side A and B\n",
        "        self.sideB = sideB\n",
        "        self.angle = angle # initialise the angle for sine part\n",
        "    def Area(self): # create area method\n",
        "        return self.sideA*self.sideB*math.sin(math.radians(self.angle))/2 # function to get the area of the triangle with sides of length sideA and sideB and angle of angle\n",
        "class Rectangle(Shape): # add to shape class because all rectangles are shapes\n",
        "    def __init__(self,h, w):  # initialise \n",
        "        self.h = h # height\n",
        "        self.w = w # weight\n",
        "    def Area(self):\n",
        "        return self.h*self.w # formula for area of rectangle \n",
        "\n",
        "t = Triangle(3,4,73)\n",
        "print('Triangle Area:',t.Area())\n",
        "r = Rectangle(5,6)\n",
        "print('Rectangle Area:', r.Area())"
      ],
      "metadata": {
        "colab": {
          "base_uri": "https://localhost:8080/"
        },
        "id": "H49jd69MlW-H",
        "outputId": "a48b837e-345e-412c-fd7e-3f79d12a3297"
      },
      "execution_count": 46,
      "outputs": [
        {
          "output_type": "stream",
          "name": "stdout",
          "text": [
            "Triangle Area: 5.737828535778212\n",
            "Rectangle Area: 30\n"
          ]
        }
      ]
    },
    {
      "cell_type": "markdown",
      "source": [
        "NumPy"
      ],
      "metadata": {
        "id": "_ri7vXVB1idO"
      }
    },
    {
      "cell_type": "markdown",
      "source": [
        "NumPy\n",
        "\n",
        "Show work using python for each problem\n",
        "\n",
        "(20 points)Write a program by creating an ‘BigMatrixMath’ class having the following functions perform and add in large NumPy arrays .\n",
        "\n",
        "1 - Initialization creates and empty list \n",
        "\n",
        "2 - addMatrix() takes in a NumPy array of unknown size and appends it to the list, if no array is given this should default to add in a NumPy array of size 40 x 40  with all integers between the values of [-70, 159]\n",
        "\n",
        "3 - printDimension goes and prints the dimensions of every NumPy array in the list\n",
        "\n",
        "4 – dotProductElgible takes in two array indices and checks if the dot product can be performed on them based on there dimensions\n",
        "\n",
        "(5 points) create an array with values that are spaced linearly in a specified interval between 0.0 100.0 as a numpy.float64, over 25 values\n",
        "\n",
        "(5 points) given the following arrays show me a line where I can combine the values into a larger array:\n",
        "\n",
        "a = np.array([[56, 12], [39, 74]])\n",
        "\n",
        "b = np.array([[65, 76]])\n",
        "\n",
        " expected output\n",
        "\n",
        "array([\n",
        "\n",
        "         [ 56, 12],\n",
        "\n",
        "         [ 39, 74],\n",
        "\n",
        "         [ 65, 76]\n",
        "\n",
        "]);\n",
        "\n",
        "(5 points) Whats a command to reformat a singular dimension array of 12 elements into a 3, 4 matrix."
      ],
      "metadata": {
        "id": "eoa3kuhp1lNz"
      }
    },
    {
      "cell_type": "code",
      "source": [
        "import numpy as np # import numpy library\n",
        "class BigMatrixMath: # create big matrix class\n",
        "        def __init__(self): # initialise and create empty list for matrix\n",
        "                self.matrix = []\n",
        "        def addMatrix(self, array = np.random.randint(-70,159,(40,40))): # method to get 40 x 40 matrix with random ints between -70 and 159\n",
        "                self.mat.append(array) \n",
        "        def printDimension(self): # method for printing the matrix\n",
        "                for array in self.mat:\n",
        "                        print(array.shape)\n",
        "        def dotProductElgible(self, i, j): # method for dot product eligibility\n",
        "                dimension1 = (self.matrix)[i].shape\n",
        "                dimension2 = (self.matrix)[j].shape\n",
        "                if(dimension1[1] == dimension2[0]): \n",
        "                  return True # can be dot producted\n",
        "                else: \n",
        "                  return False # can't be dot producted\n",
        "\n",
        "array = np.linspace(0.0,100.0,25, dtype = np.float64)\n",
        "print(array) # print array\n",
        "\n",
        "a = np.array([[56,12],[39,74]]) # matrix a\n",
        "b = np.array([[65,76]]) # matrix b\n",
        "appended_array = np.append(a,b,0) # appending\n",
        "print(appended_array) # print appended matrix\n",
        "\n",
        "array = np.array([1,2,3,4,5,6,7,8,9,10,11,12]) # take on an array\n",
        "print(array) # print 1x12 array\n",
        "np.reshape(array,(3,4)) # rearrange array\n",
        "print(np.reshape(array,(3,4))) # print the rearranged array"
      ],
      "metadata": {
        "colab": {
          "base_uri": "https://localhost:8080/"
        },
        "id": "01fhUmL4ziCe",
        "outputId": "8e530e62-298e-474c-bcff-ede8727a0c69"
      },
      "execution_count": 50,
      "outputs": [
        {
          "output_type": "stream",
          "name": "stdout",
          "text": [
            "[  0.           4.16666667   8.33333333  12.5         16.66666667\n",
            "  20.83333333  25.          29.16666667  33.33333333  37.5\n",
            "  41.66666667  45.83333333  50.          54.16666667  58.33333333\n",
            "  62.5         66.66666667  70.83333333  75.          79.16666667\n",
            "  83.33333333  87.5         91.66666667  95.83333333 100.        ]\n",
            "[[56 12]\n",
            " [39 74]\n",
            " [65 76]]\n",
            "[[ 1  2  3  4]\n",
            " [ 5  6  7  8]\n",
            " [ 9 10 11 12]]\n"
          ]
        }
      ]
    },
    {
      "cell_type": "markdown",
      "source": [
        "Pandas"
      ],
      "metadata": {
        "id": "KZE8p2R9h7Kk"
      }
    },
    {
      "cell_type": "markdown",
      "source": [
        "(5 points) adult.csv what is the average age of adults that make under 50K? whats the average age of adults that make over 50K.\n",
        "\n",
        "(5 points) adult.csv what is the standard deviation of hours worked of adults that make under 50K? whats the average age of adults that make over 50K.\n",
        "\n",
        "(5 points) adult.csv what is the correlation between of hours worked and age of adults that make under 50K? whats the average age of adults that make over 50K.\n",
        "\n",
        "(5 points) cars.csv replace each text value for a meaningful integer equivalent for each column in  the data.\n",
        "\n",
        "(5 points) cars.csv what’s the correlation between buying, safety, and maintence.\n",
        "\n",
        "(5 points) iris.csv what is the median petal length and width for each flower type\n",
        "\n",
        "(5 points) iris.csv what is the correlation for each flower type"
      ],
      "metadata": {
        "id": "PYDJugz5zenl"
      }
    },
    {
      "cell_type": "code",
      "source": [
        "# import the csvs\n",
        "from google.colab import files\n",
        "uploaded = files.upload()\n",
        "uploaded"
      ],
      "metadata": {
        "colab": {
          "resources": {
            "http://localhost:8080/nbextensions/google.colab/files.js": {
              "data": "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",
              "ok": true,
              "headers": [
                [
                  "content-type",
                  "application/javascript"
                ]
              ],
              "status": 200,
              "status_text": ""
            }
          },
          "base_uri": "https://localhost:8080/",
          "height": 385
        },
        "id": "tk4bEf-iFOJg",
        "outputId": "39ed9986-95d3-4836-9d28-cddddc96c01e"
      },
      "execution_count": 17,
      "outputs": [
        {
          "output_type": "display_data",
          "data": {
            "text/html": [
              "\n",
              "     <input type=\"file\" id=\"files-2231e9ce-a1a6-491c-ba75-4199a4fec382\" name=\"files[]\" multiple disabled\n",
              "        style=\"border:none\" />\n",
              "     <output id=\"result-2231e9ce-a1a6-491c-ba75-4199a4fec382\">\n",
              "      Upload widget is only available when the cell has been executed in the\n",
              "      current browser session. Please rerun this cell to enable.\n",
              "      </output>\n",
              "      <script src=\"/nbextensions/google.colab/files.js\"></script> "
            ],
            "text/plain": [
              "<IPython.core.display.HTML object>"
            ]
          },
          "metadata": {}
        },
        {
          "output_type": "error",
          "ename": "KeyboardInterrupt",
          "evalue": "ignored",
          "traceback": [
            "\u001b[0;31m---------------------------------------------------------------------------\u001b[0m",
            "\u001b[0;31mKeyboardInterrupt\u001b[0m                         Traceback (most recent call last)",
            "\u001b[0;32m<ipython-input-17-af3dccd0767e>\u001b[0m in \u001b[0;36m<module>\u001b[0;34m()\u001b[0m\n\u001b[1;32m      1\u001b[0m \u001b[0;31m# import the csvs\u001b[0m\u001b[0;34m\u001b[0m\u001b[0;34m\u001b[0m\u001b[0;34m\u001b[0m\u001b[0m\n\u001b[1;32m      2\u001b[0m \u001b[0;32mfrom\u001b[0m \u001b[0mgoogle\u001b[0m\u001b[0;34m.\u001b[0m\u001b[0mcolab\u001b[0m \u001b[0;32mimport\u001b[0m \u001b[0mfiles\u001b[0m\u001b[0;34m\u001b[0m\u001b[0;34m\u001b[0m\u001b[0m\n\u001b[0;32m----> 3\u001b[0;31m \u001b[0muploaded\u001b[0m \u001b[0;34m=\u001b[0m \u001b[0mfiles\u001b[0m\u001b[0;34m.\u001b[0m\u001b[0mupload\u001b[0m\u001b[0;34m(\u001b[0m\u001b[0;34m)\u001b[0m\u001b[0;34m\u001b[0m\u001b[0;34m\u001b[0m\u001b[0m\n\u001b[0m\u001b[1;32m      4\u001b[0m \u001b[0muploaded\u001b[0m\u001b[0;34m\u001b[0m\u001b[0;34m\u001b[0m\u001b[0m\n",
            "\u001b[0;32m/usr/local/lib/python3.7/dist-packages/google/colab/files.py\u001b[0m in \u001b[0;36mupload\u001b[0;34m()\u001b[0m\n\u001b[1;32m     61\u001b[0m   result = _output.eval_js(\n\u001b[1;32m     62\u001b[0m       'google.colab._files._uploadFiles(\"{input_id}\", \"{output_id}\")'.format(\n\u001b[0;32m---> 63\u001b[0;31m           input_id=input_id, output_id=output_id))\n\u001b[0m\u001b[1;32m     64\u001b[0m   \u001b[0mfiles\u001b[0m \u001b[0;34m=\u001b[0m \u001b[0m_collections\u001b[0m\u001b[0;34m.\u001b[0m\u001b[0mdefaultdict\u001b[0m\u001b[0;34m(\u001b[0m\u001b[0m_six\u001b[0m\u001b[0;34m.\u001b[0m\u001b[0mbinary_type\u001b[0m\u001b[0;34m)\u001b[0m\u001b[0;34m\u001b[0m\u001b[0;34m\u001b[0m\u001b[0m\n\u001b[1;32m     65\u001b[0m   \u001b[0;31m# Mapping from original filename to filename as saved locally.\u001b[0m\u001b[0;34m\u001b[0m\u001b[0;34m\u001b[0m\u001b[0;34m\u001b[0m\u001b[0m\n",
            "\u001b[0;32m/usr/local/lib/python3.7/dist-packages/google/colab/output/_js.py\u001b[0m in \u001b[0;36meval_js\u001b[0;34m(script, ignore_result, timeout_sec)\u001b[0m\n\u001b[1;32m     38\u001b[0m   \u001b[0;32mif\u001b[0m \u001b[0mignore_result\u001b[0m\u001b[0;34m:\u001b[0m\u001b[0;34m\u001b[0m\u001b[0;34m\u001b[0m\u001b[0m\n\u001b[1;32m     39\u001b[0m     \u001b[0;32mreturn\u001b[0m\u001b[0;34m\u001b[0m\u001b[0;34m\u001b[0m\u001b[0m\n\u001b[0;32m---> 40\u001b[0;31m   \u001b[0;32mreturn\u001b[0m \u001b[0m_message\u001b[0m\u001b[0;34m.\u001b[0m\u001b[0mread_reply_from_input\u001b[0m\u001b[0;34m(\u001b[0m\u001b[0mrequest_id\u001b[0m\u001b[0;34m,\u001b[0m \u001b[0mtimeout_sec\u001b[0m\u001b[0;34m)\u001b[0m\u001b[0;34m\u001b[0m\u001b[0;34m\u001b[0m\u001b[0m\n\u001b[0m\u001b[1;32m     41\u001b[0m \u001b[0;34m\u001b[0m\u001b[0m\n\u001b[1;32m     42\u001b[0m \u001b[0;34m\u001b[0m\u001b[0m\n",
            "\u001b[0;32m/usr/local/lib/python3.7/dist-packages/google/colab/_message.py\u001b[0m in \u001b[0;36mread_reply_from_input\u001b[0;34m(message_id, timeout_sec)\u001b[0m\n\u001b[1;32m     99\u001b[0m     \u001b[0mreply\u001b[0m \u001b[0;34m=\u001b[0m \u001b[0m_read_next_input_message\u001b[0m\u001b[0;34m(\u001b[0m\u001b[0;34m)\u001b[0m\u001b[0;34m\u001b[0m\u001b[0;34m\u001b[0m\u001b[0m\n\u001b[1;32m    100\u001b[0m     \u001b[0;32mif\u001b[0m \u001b[0mreply\u001b[0m \u001b[0;34m==\u001b[0m \u001b[0m_NOT_READY\u001b[0m \u001b[0;32mor\u001b[0m \u001b[0;32mnot\u001b[0m \u001b[0misinstance\u001b[0m\u001b[0;34m(\u001b[0m\u001b[0mreply\u001b[0m\u001b[0;34m,\u001b[0m \u001b[0mdict\u001b[0m\u001b[0;34m)\u001b[0m\u001b[0;34m:\u001b[0m\u001b[0;34m\u001b[0m\u001b[0;34m\u001b[0m\u001b[0m\n\u001b[0;32m--> 101\u001b[0;31m       \u001b[0mtime\u001b[0m\u001b[0;34m.\u001b[0m\u001b[0msleep\u001b[0m\u001b[0;34m(\u001b[0m\u001b[0;36m0.025\u001b[0m\u001b[0;34m)\u001b[0m\u001b[0;34m\u001b[0m\u001b[0;34m\u001b[0m\u001b[0m\n\u001b[0m\u001b[1;32m    102\u001b[0m       \u001b[0;32mcontinue\u001b[0m\u001b[0;34m\u001b[0m\u001b[0;34m\u001b[0m\u001b[0m\n\u001b[1;32m    103\u001b[0m     if (reply.get('type') == 'colab_reply' and\n",
            "\u001b[0;31mKeyboardInterrupt\u001b[0m: "
          ]
        }
      ]
    },
    {
      "cell_type": "code",
      "execution_count": 61,
      "metadata": {
        "colab": {
          "base_uri": "https://localhost:8080/"
        },
        "id": "1wf50HagYNCk",
        "outputId": "4e9b200d-c0fc-41f2-d6e0-c507ad8c75e6"
      },
      "outputs": [
        {
          "output_type": "stream",
          "name": "stdout",
          "text": [
            "Average age of adults earning under 50K: 36.90160398975603\n",
            "St.Dev of hours worked of adults that make undeer 50K: 12.327423480966102\n",
            "Average age of adults earning over 50K 44.35659574468085\n",
            "The correlation between hours worked and age of adults that earn under 50K is: 0.030756630653757777\n"
          ]
        }
      ],
      "source": [
        "import pandas as pd # import pandas and numpy library\n",
        "import numpy as np\n",
        "df_adult = pd.read_csv(r'adult.csv') # assign df_adult to the adult csv\n",
        "#print(df_adult)\n",
        "under_fifty = df_adult[df_adult['class'] ==\" <=50K\"]\n",
        "# print(under_fifty) # table of all adults who earn 50k or less\n",
        "print(\"Average age of adults earning under 50K:\",under_fifty['age'].mean()) # take mean of age column in under_fifty\n",
        "print(\"St.Dev of hours worked of adults that make undeer 50K:\",under_fifty['hours-per-week'].std()) # take st dev of hours worked column in under_fifty\n",
        "over_fifty = df_adult[df_adult['class'] != \" <=50K\"] # table with all adults who earn over 50\n",
        "# print(over_fifty)\n",
        "print(\"Average age of adults earning over 50K\", over_fifty['age'].mean()) # mean of age column in over_fifty\n",
        "column_1 = under_fifty['hours-per-week'] # define column_1\n",
        "column_2 = under_fifty['age'] # define column_2\n",
        "correlation = column_1.corr(column_2) # get correlation between hours per week and age \n",
        "print(\"The correlation between hours worked and age of adults that earn under 50K is:\",correlation)"
      ]
    },
    {
      "cell_type": "code",
      "source": [
        "df_car = pd.read_csv(r'car.csv') # define df_car from car csv\n",
        "#df_car\n",
        "df_car['Buying'] = df_car['Buying'].replace([\"vhigh\"],100000) # replace vhigh\n",
        "df_car['Buying']\n",
        "#df_car\n",
        "df_car['Buying'] = df_car['Buying'].replace([\"med\"],50000) # replace med\n",
        "df_car['Buying']\n",
        "#df_car\n",
        "df_car['Buying'] = df_car['Buying'].replace([\"high\"],80000) # replace high\n",
        "df_car['Buying']\n",
        "#df_car\n",
        "df_car['Buying'] = df_car['Buying'].replace([\"low\"],20000) # replace low\n",
        "df_car['Buying']\n",
        "#df_car\n",
        "df_car['Buying'] = df_car['Buying'].replace([\"vlow\"],5000) # replace vlow\n",
        "df_car['Buying']\n",
        "#df_car\n",
        "df_car['Maintenance'] = df_car['Maintenance'].replace([\"low\"],100) # replace low\n",
        "df_car['Maintenance']\n",
        "#df_car\n",
        "df_car['Maintenance'] = df_car['Maintenance'].replace([\"med\"],500) # replace med\n",
        "df_car['Maintenance']\n",
        "#df_car\n",
        "df_car['Maintenance'] = df_car['Maintenance'].replace([\"high\"],1000) # replace high\n",
        "df_car['Maintenance']\n",
        "#df_car\n",
        "df_car['Maintenance'] = df_car['Maintenance'].replace([\"vhigh\"],2000) # replace vhigh\n",
        "df_car['Maintenance']\n",
        "#df_car\n",
        "df_car['Doors'] = df_car['Doors'].replace([\"5more\"],5) # replace 5more\n",
        "df_car['Doors']\n",
        "#df_car\n",
        "df_car['Riders'] = df_car['Riders'].replace([\"more\"],5) # replace more\n",
        "df_car['Riders']\n",
        "#df_car\n",
        "df_car['Trunk_Size'] = df_car['Trunk_Size'].replace([\"small\"],1) # replace small\n",
        "df_car['Trunk_Size']\n",
        "#df_car\n",
        "df_car['Trunk_Size'] = df_car['Trunk_Size'].replace([\"med\"],2) # replace med\n",
        "df_car['Trunk_Size']\n",
        "#df_car\n",
        "df_car['Trunk_Size'] = df_car['Trunk_Size'].replace([\"big\"],3) # replace big\n",
        "df_car['Trunk_Size']\n",
        "#df_car\n",
        "df_car['Safety'] = df_car['Safety'].replace([\"low\"],1) # replace low\n",
        "df_car['Safety']\n",
        "#df_car\n",
        "df_car['Safety'] = df_car['Safety'].replace([\"med\"],2) # replace med\n",
        "df_car['Safety']\n",
        "#df_car\n",
        "df_car['Safety'] = df_car['Safety'].replace([\"high\"],3) # replace high\n",
        "df_car['Safety']\n",
        "#df_car\n",
        "df_car['Class'] = df_car['Class'].replace([\"unacc\"],0) # replace unacceptable\n",
        "df_car['Class']\n",
        "#df_car\n",
        "df_car['Class'] = df_car['Class'].replace([\"acc\"],1) #  replace acceptable\n",
        "df_car['Class']\n",
        "#df_car\n",
        "df_car['Class'] = df_car['Class'].replace([\"good\"],2) #  replace good\n",
        "df_car['Class']\n",
        "#df_car\n",
        "df_car['Class'] = df_car['Class'].replace([\"vgood\"],3)  # replace vgood\n",
        "df_car['Class']\n",
        "#df_car\n",
        "print(df_car) # print the updated data frame\n",
        "columns_corr = df_car[['Buying','Safety','Maintenance']].corr() # create correlation between 3 columns\n",
        "print(\"The correlation matrix is: \\n\",columns_corr)\n"
      ],
      "metadata": {
        "colab": {
          "base_uri": "https://localhost:8080/"
        },
        "id": "cS7E8lTug0Xv",
        "outputId": "179386a1-7dab-41c2-beb6-2df1aca44ecc"
      },
      "execution_count": 52,
      "outputs": [
        {
          "output_type": "stream",
          "name": "stdout",
          "text": [
            "      Buying  Maintenance Doors Riders  Trunk_Size  Safety  Class\n",
            "0     100000         2000     2      2           1       1      0\n",
            "1     100000         2000     2      2           1       2      0\n",
            "2     100000         2000     2      2           1       3      0\n",
            "3     100000         2000     2      2           2       1      0\n",
            "4     100000         2000     2      2           2       2      0\n",
            "...      ...          ...   ...    ...         ...     ...    ...\n",
            "1723   20000          100     5      5           2       2      2\n",
            "1724   20000          100     5      5           2       3      3\n",
            "1725   20000          100     5      5           3       1      0\n",
            "1726   20000          100     5      5           3       2      2\n",
            "1727   20000          100     5      5           3       3      3\n",
            "\n",
            "[1728 rows x 7 columns]\n",
            "The correlation matrix is: \n",
            "                    Buying        Safety   Maintenance\n",
            "Buying       1.000000e+00 -1.557585e-15 -4.784096e-16\n",
            "Safety      -1.557585e-15  1.000000e+00 -2.347128e-16\n",
            "Maintenance -4.784096e-16 -2.347128e-16  1.000000e+00\n"
          ]
        }
      ]
    },
    {
      "cell_type": "code",
      "source": [
        "df_iris = pd.read_csv(r'iris.csv') # define iris from iris csv\n",
        "df_iris\n",
        "df_iris['Flower_class'].unique() # get unique classes\n",
        "# 'Iris-setosa', 'Iris-versicolor', 'Iris-virginica' # these are unique classes\n",
        "df_irisSETOSA = df_iris[df_iris['Flower_class']=='Iris-setosa'] # new df\n",
        "#print(df_irisSETOSA)\n",
        "df_irisVERSICOLOR = df_iris[df_iris['Flower_class']=='Iris-versicolor'] # new df\n",
        "#print(df_irisVERSICOLOR)\n",
        "df_irisVIRGINICA = df_iris[df_iris['Flower_class']=='Iris-virginica'] # new df\n",
        "#print(df_irisVIRGINICA)\n",
        "med_pet_length_setosa = df_irisSETOSA['Petal_length'].median() # median petal length from setosa df\n",
        "print(\"Medium SETOSA petal length:\",med_pet_length_setosa)\n",
        "med_pet_length_versicolor = df_irisVERSICOLOR['Petal_length'].median() # median petal length from versicolor df\n",
        "print(\"Medium SETOSA petal length:\",med_pet_length_versicolor)\n",
        "med_pet_length_virginica = df_irisVIRGINICA['Petal_length'].median() # median petal length from virginica df\n",
        "print(\"Medium SETOSA petal length:\",med_pet_length_virginica)\n",
        "med_pet_width_setosa = df_irisSETOSA['Petal_width'].median()  # median petal width from setosa df\n",
        "print(\"Medium SETOSA petal width:\",med_pet_width_setosa)\n",
        "med_pet_width_versicolor = df_irisVERSICOLOR['Petal_width'].median() # median petal width from versicolor df\n",
        "print(\"Medium SETOSA petal width:\",med_pet_width_versicolor)\n",
        "med_pet_width_virginica = df_irisVIRGINICA['Petal_width'].median() # median petal width from virginica df\n",
        "print(\"Medium SETOSA petal width:\",med_pet_width_virginica)\n",
        "#corr1 = df_irisSETOSA.corrwith(df_irisVERSICOLOR, axis = 1)\n",
        "#print(\"The correlation between Setosa and Versicolor is:\", corr1)\n",
        "#corr2= df_irisSETOSA.corrwith(df_irisVIRGINICA, axis = 1)\n",
        "#print(\"The correlation between Setosa and Virginica is:\", corr2)\n",
        "#corr3 = df_irisVERSICOLOR.corrwith(df_irisVIRGINICA, axis = 1)\n",
        "#print(\"The correlation between Versicolor and Virginica is:\", corr3#)\n",
        "# im not sure why, but i keep getting NaNs for this part :("
      ],
      "metadata": {
        "colab": {
          "base_uri": "https://localhost:8080/"
        },
        "id": "C3ZEnS01g4bx",
        "outputId": "ffa78bbf-fe72-42ef-8dbf-6b257b9f0734"
      },
      "execution_count": 53,
      "outputs": [
        {
          "output_type": "stream",
          "name": "stdout",
          "text": [
            "Medium SETOSA petal length: 1.5\n",
            "Medium SETOSA petal length: 4.35\n",
            "Medium SETOSA petal length: 5.55\n",
            "Medium SETOSA petal width: 0.2\n",
            "Medium SETOSA petal width: 1.3\n",
            "Medium SETOSA petal width: 2.0\n",
            "The correlation between Setosa and Versicolor is: 0    NaN\n",
            "1    NaN\n",
            "2    NaN\n",
            "3    NaN\n",
            "4    NaN\n",
            "      ..\n",
            "95   NaN\n",
            "96   NaN\n",
            "97   NaN\n",
            "98   NaN\n",
            "99   NaN\n",
            "Length: 100, dtype: float64\n"
          ]
        }
      ]
    }
  ]
}